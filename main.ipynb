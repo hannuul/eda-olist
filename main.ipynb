{
 "cells": [
  {
   "cell_type": "markdown",
   "id": "2434d018",
   "metadata": {},
   "source": [
    "# Basic Setup\n",
    "### Import Necessary Libraries"
   ]
  },
  {
   "cell_type": "code",
   "execution_count": 148,
   "id": "34e9e4c8",
   "metadata": {},
   "outputs": [],
   "source": [
    "import sqlite3 as sql3\n",
    "import pandas as pd\n",
    "import seaborn as sns\n",
    "import matplotlib.pyplot as plt\n",
    "\n",
    "import warnings\n",
    "warnings.simplefilter(action='ignore', category=FutureWarning)"
   ]
  },
  {
   "cell_type": "markdown",
   "id": "6bb6ffb7",
   "metadata": {},
   "source": [
    "### Create Connection with Database"
   ]
  },
  {
   "cell_type": "code",
   "execution_count": 149,
   "id": "c26e3eb3",
   "metadata": {},
   "outputs": [],
   "source": [
    "conn = sql3.connect(\"olist.db\")"
   ]
  },
  {
   "cell_type": "markdown",
   "id": "ebf838af",
   "metadata": {},
   "source": [
    "### View Table Names "
   ]
  },
  {
   "cell_type": "code",
   "execution_count": 150,
   "id": "ec0cb353",
   "metadata": {},
   "outputs": [
    {
     "name": "stdout",
     "output_type": "stream",
     "text": [
      "0         (olist_order_customer_dataset,)\n",
      "1                  (olist_order_dataset,)\n",
      "2          (olist_order_reviews_dataset,)\n",
      "3         (olist_order_payments_dataset,)\n",
      "4            (olist_order_items_dataset,)\n",
      "5               (olist_products_dataset,)\n",
      "6                (olist_sellers_dataset,)\n",
      "7            (olist_geolocation_dataset,)\n",
      "8    (product_category_name_translation,)\n",
      "dtype: object\n"
     ]
    }
   ],
   "source": [
    "# creating cursor to access sqlite master\n",
    "cur = conn.cursor()\n",
    "\n",
    "# reading all table names\n",
    "table_list = [a for a in cur.execute(\"SELECT name FROM sqlite_master WHERE type = 'table'\")]\n",
    "print(pd.Series(table_list))"
   ]
  },
  {
   "cell_type": "markdown",
   "id": "dad026b4",
   "metadata": {},
   "source": [
    "### Retreive and Join Table"
   ]
  },
  {
   "cell_type": "code",
   "execution_count": 151,
   "id": "277d2906",
   "metadata": {},
   "outputs": [],
   "source": [
    "# access table products\n",
    "query_product = (\"SELECT * FROM olist_products_dataset\")\n",
    "product = pd.read_sql(query_product, conn)\n",
    "product.set_index(\"index\", inplace=True)\n",
    "\n",
    "# access table items\n",
    "query_items = (\"SELECT * FROM olist_order_items_dataset\")\n",
    "items = pd.read_sql(query_items, conn)\n",
    "items.set_index(\"index\", inplace=True)\n",
    "\n",
    "# left join the tables on product_id\n",
    "table = pd.merge(product, items, on=\"product_id\", how=\"left\")"
   ]
  },
  {
   "cell_type": "code",
   "execution_count": 152,
   "id": "b5450ebf",
   "metadata": {},
   "outputs": [
    {
     "name": "stdout",
     "output_type": "stream",
     "text": [
      "(112650, 15)\n",
      "<class 'pandas.core.frame.DataFrame'>\n",
      "Int64Index: 112650 entries, 0 to 112649\n",
      "Data columns (total 15 columns):\n",
      " #   Column                      Non-Null Count   Dtype  \n",
      "---  ------                      --------------   -----  \n",
      " 0   product_id                  112650 non-null  object \n",
      " 1   product_category_name       111047 non-null  object \n",
      " 2   product_name_lenght         111047 non-null  float64\n",
      " 3   product_description_lenght  111047 non-null  float64\n",
      " 4   product_photos_qty          111047 non-null  float64\n",
      " 5   product_weight_g            112632 non-null  float64\n",
      " 6   product_length_cm           112632 non-null  float64\n",
      " 7   product_height_cm           112632 non-null  float64\n",
      " 8   product_width_cm            112632 non-null  float64\n",
      " 9   order_id                    112650 non-null  object \n",
      " 10  order_item_id               112650 non-null  int64  \n",
      " 11  seller_id                   112650 non-null  object \n",
      " 12  shipping_limit_date         112650 non-null  object \n",
      " 13  price                       112650 non-null  float64\n",
      " 14  freight_value               112650 non-null  float64\n",
      "dtypes: float64(9), int64(1), object(5)\n",
      "memory usage: 13.8+ MB\n"
     ]
    }
   ],
   "source": [
    "# view table info\n",
    "print(table.shape)\n",
    "table.info()"
   ]
  },
  {
   "cell_type": "markdown",
   "id": "9a7729a0",
   "metadata": {},
   "source": [
    "# Pre-Processing\n",
    "### Get Relevant Data"
   ]
  },
  {
   "cell_type": "code",
   "execution_count": 153,
   "id": "7b958c4e",
   "metadata": {},
   "outputs": [
    {
     "name": "stdout",
     "output_type": "stream",
     "text": [
      "<class 'pandas.core.frame.DataFrame'>\n",
      "Int64Index: 112650 entries, 0 to 112649\n",
      "Data columns (total 12 columns):\n",
      " #   Column                      Non-Null Count   Dtype  \n",
      "---  ------                      --------------   -----  \n",
      " 0   product_id                  112650 non-null  object \n",
      " 1   product_category_name       111047 non-null  object \n",
      " 2   product_name_lenght         111047 non-null  float64\n",
      " 3   product_description_lenght  111047 non-null  float64\n",
      " 4   product_photos_qty          111047 non-null  float64\n",
      " 5   product_weight_g            112632 non-null  float64\n",
      " 6   product_length_cm           112632 non-null  float64\n",
      " 7   product_height_cm           112632 non-null  float64\n",
      " 8   product_width_cm            112632 non-null  float64\n",
      " 9   order_id                    112650 non-null  object \n",
      " 10  order_item_id               112650 non-null  int64  \n",
      " 11  price                       112650 non-null  float64\n",
      "dtypes: float64(8), int64(1), object(3)\n",
      "memory usage: 11.2+ MB\n"
     ]
    }
   ],
   "source": [
    "# remove unnecessary columns\n",
    "columns_to_drop = [\"seller_id\",\n",
    "                   \"shipping_limit_date\",\n",
    "                   \"freight_value\"]\n",
    "\n",
    "table.drop(columns_to_drop, axis=1, inplace=True)\n",
    "table.info()"
   ]
  },
  {
   "cell_type": "markdown",
   "id": "93f7f6a0",
   "metadata": {},
   "source": [
    "### Impute Missing Values"
   ]
  },
  {
   "cell_type": "code",
   "execution_count": 154,
   "id": "f02fc36e",
   "metadata": {},
   "outputs": [
    {
     "data": {
      "text/plain": [
       "product_id                    0.000000\n",
       "product_category_name         1.422992\n",
       "product_name_lenght           1.422992\n",
       "product_description_lenght    1.422992\n",
       "product_photos_qty            1.422992\n",
       "product_weight_g              0.015979\n",
       "product_length_cm             0.015979\n",
       "product_height_cm             0.015979\n",
       "product_width_cm              0.015979\n",
       "order_id                      0.000000\n",
       "order_item_id                 0.000000\n",
       "price                         0.000000\n",
       "dtype: float64"
      ]
     },
     "execution_count": 154,
     "metadata": {},
     "output_type": "execute_result"
    }
   ],
   "source": [
    "# calculate the presentation of missing values in each column\n",
    "table.isna().sum() / len(table) * 100"
   ]
  },
  {
   "cell_type": "code",
   "execution_count": 155,
   "id": "95609d3c",
   "metadata": {},
   "outputs": [
    {
     "data": {
      "text/plain": [
       "product_id                    0.000000\n",
       "product_category_name         0.000000\n",
       "product_name_lenght           0.000000\n",
       "product_description_lenght    0.000000\n",
       "product_photos_qty            0.000000\n",
       "product_weight_g              0.000009\n",
       "product_length_cm             0.000009\n",
       "product_height_cm             0.000009\n",
       "product_width_cm              0.000009\n",
       "order_id                      0.000000\n",
       "order_item_id                 0.000000\n",
       "price                         0.000000\n",
       "dtype: float64"
      ]
     },
     "execution_count": 155,
     "metadata": {},
     "output_type": "execute_result"
    }
   ],
   "source": [
    "# migrate the not Na rows to a new table\n",
    "table2 = table[table['product_category_name'].notna()]\n",
    "\n",
    "# calculate Nan percentage of the new table\n",
    "table2.isna().sum() / len(table)"
   ]
  },
  {
   "cell_type": "code",
   "execution_count": 156,
   "id": "58444e97",
   "metadata": {},
   "outputs": [
    {
     "data": {
      "text/plain": [
       "<AxesSubplot: xlabel='product_width_cm', ylabel='Count'>"
      ]
     },
     "execution_count": 156,
     "metadata": {},
     "output_type": "execute_result"
    },
    {
     "data": {
      "image/png": "[encoded data removed]",
      "text/plain": [
       "<Figure size 1600x200 with 4 Axes>"
      ]
     },
     "metadata": {},
     "output_type": "display_data"
    }
   ],
   "source": [
    "# histogram plot to see distribution\n",
    "fig, axes = plt.subplots(1,4, figsize=(16, 2))\n",
    "sns.histplot(data=table2, x=\"product_weight_g\", ax=axes[0], kde=\"True\")\n",
    "sns.histplot(data=table2, x=\"product_length_cm\", ax=axes[1], kde=\"True\")\n",
    "sns.histplot(data=table2, x=\"product_height_cm\", ax=axes[2], kde=\"True\")\n",
    "sns.histplot(data=table2, x=\"product_width_cm\", ax=axes[3], kde=\"True\")"
   ]
  },
  {
   "cell_type": "code",
   "execution_count": 157,
   "id": "215730e5",
   "metadata": {},
   "outputs": [
    {
     "name": "stderr",
     "output_type": "stream",
     "text": [
      "C:\\Users\\651345\\AppData\\Local\\Temp\\ipykernel_18224\\3979295721.py:4: SettingWithCopyWarning: \n",
      "A value is trying to be set on a copy of a slice from a DataFrame\n",
      "\n",
      "See the caveats in the documentation: https://pandas.pydata.org/pandas-docs/stable/user_guide/indexing.html#returning-a-view-versus-a-copy\n",
      "  table2[\"product_weight_g\"].fillna(table2[\"product_weight_g\"].median(), inplace=True)\n",
      "C:\\Users\\651345\\AppData\\Local\\Temp\\ipykernel_18224\\3979295721.py:5: SettingWithCopyWarning: \n",
      "A value is trying to be set on a copy of a slice from a DataFrame\n",
      "\n",
      "See the caveats in the documentation: https://pandas.pydata.org/pandas-docs/stable/user_guide/indexing.html#returning-a-view-versus-a-copy\n",
      "  table2[\"product_length_cm\"].fillna(table2[\"product_length_cm\"].median(), inplace=True)\n",
      "C:\\Users\\651345\\AppData\\Local\\Temp\\ipykernel_18224\\3979295721.py:6: SettingWithCopyWarning: \n",
      "A value is trying to be set on a copy of a slice from a DataFrame\n",
      "\n",
      "See the caveats in the documentation: https://pandas.pydata.org/pandas-docs/stable/user_guide/indexing.html#returning-a-view-versus-a-copy\n",
      "  table2[\"product_height_cm\"].fillna(table2[\"product_height_cm\"].median(), inplace=True)\n",
      "C:\\Users\\651345\\AppData\\Local\\Temp\\ipykernel_18224\\3979295721.py:7: SettingWithCopyWarning: \n",
      "A value is trying to be set on a copy of a slice from a DataFrame\n",
      "\n",
      "See the caveats in the documentation: https://pandas.pydata.org/pandas-docs/stable/user_guide/indexing.html#returning-a-view-versus-a-copy\n",
      "  table2[\"product_width_cm\"].fillna(table2[\"product_width_cm\"].median(), inplace=True)\n"
     ]
    },
    {
     "data": {
      "text/plain": [
       "product_id                    0.0\n",
       "product_category_name         0.0\n",
       "product_name_lenght           0.0\n",
       "product_description_lenght    0.0\n",
       "product_photos_qty            0.0\n",
       "product_weight_g              0.0\n",
       "product_length_cm             0.0\n",
       "product_height_cm             0.0\n",
       "product_width_cm              0.0\n",
       "order_id                      0.0\n",
       "order_item_id                 0.0\n",
       "price                         0.0\n",
       "dtype: float64"
      ]
     },
     "execution_count": 157,
     "metadata": {},
     "output_type": "execute_result"
    }
   ],
   "source": [
    "# impute missing values using median of each\n",
    "table2[\"product_weight_g\"].fillna(table2[\"product_weight_g\"].median(), inplace=True)\n",
    "table2[\"product_length_cm\"].fillna(table2[\"product_length_cm\"].median(), inplace=True)\n",
    "table2[\"product_height_cm\"].fillna(table2[\"product_height_cm\"].median(), inplace=True)\n",
    "table2[\"product_width_cm\"].fillna(table2[\"product_width_cm\"].median(), inplace=True)\n",
    "\n",
    "# re-check the NaN percentage\n",
    "table2.isna().sum() / len(table) * 100"
   ]
  },
  {
   "cell_type": "markdown",
   "id": "1b5be550",
   "metadata": {},
   "source": [
    "### Duplication Checking"
   ]
  },
  {
   "cell_type": "code",
   "execution_count": 158,
   "id": "d66b150b",
   "metadata": {},
   "outputs": [
    {
     "data": {
      "text/html": [
       "<div>\n",
       "<style scoped>\n",
       "    .dataframe tbody tr th:only-of-type {\n",
       "        vertical-align: middle;\n",
       "    }\n",
       "\n",
       "    .dataframe tbody tr th {\n",
       "        vertical-align: top;\n",
       "    }\n",
       "\n",
       "    .dataframe thead th {\n",
       "        text-align: right;\n",
       "    }\n",
       "</style>\n",
       "<table border=\"1\" class=\"dataframe\">\n",
       "  <thead>\n",
       "    <tr style=\"text-align: right;\">\n",
       "      <th></th>\n",
       "      <th>product_id</th>\n",
       "      <th>product_category_name</th>\n",
       "      <th>product_name_lenght</th>\n",
       "      <th>product_description_lenght</th>\n",
       "      <th>product_photos_qty</th>\n",
       "      <th>product_weight_g</th>\n",
       "      <th>product_length_cm</th>\n",
       "      <th>product_height_cm</th>\n",
       "      <th>product_width_cm</th>\n",
       "      <th>order_id</th>\n",
       "      <th>order_item_id</th>\n",
       "      <th>price</th>\n",
       "    </tr>\n",
       "  </thead>\n",
       "  <tbody>\n",
       "  </tbody>\n",
       "</table>\n",
       "</div>"
      ],
      "text/plain": [
       "Empty DataFrame\n",
       "Columns: [product_id, product_category_name, product_name_lenght, product_description_lenght, product_photos_qty, product_weight_g, product_length_cm, product_height_cm, product_width_cm, order_id, order_item_id, price]\n",
       "Index: []"
      ]
     },
     "execution_count": 158,
     "metadata": {},
     "output_type": "execute_result"
    }
   ],
   "source": [
    "table2[table2.duplicated()]"
   ]
  },
  {
   "cell_type": "markdown",
   "id": "8945abd0",
   "metadata": {},
   "source": [
    "### Fix Inconsistent Format"
   ]
  },
  {
   "cell_type": "code",
   "execution_count": 159,
   "id": "cd664255",
   "metadata": {},
   "outputs": [
    {
     "name": "stdout",
     "output_type": "stream",
     "text": [
      "['perfumaria' 'artes' 'esporte_lazer' 'bebes' 'utilidades_domesticas'\n",
      " 'instrumentos_musicais' 'cool_stuff' 'moveis_decoracao'\n",
      " 'eletrodomesticos' 'brinquedos' 'cama_mesa_banho'\n",
      " 'construcao_ferramentas_seguranca' 'informatica_acessorios'\n",
      " 'beleza_saude' 'malas_acessorios' 'ferramentas_jardim'\n",
      " 'moveis_escritorio' 'automotivo' 'eletronicos' 'fashion_calcados'\n",
      " 'telefonia' 'papelaria' 'fashion_bolsas_e_acessorios' 'pcs'\n",
      " 'casa_construcao' 'relogios_presentes'\n",
      " 'construcao_ferramentas_construcao' 'pet_shop' 'eletroportateis'\n",
      " 'agro_industria_e_comercio' 'moveis_sala' 'sinalizacao_e_seguranca'\n",
      " 'climatizacao' 'consoles_games' 'livros_interesse_geral'\n",
      " 'construcao_ferramentas_ferramentas' 'fashion_underwear_e_moda_praia'\n",
      " 'fashion_roupa_masculina'\n",
      " 'moveis_cozinha_area_de_servico_jantar_e_jardim'\n",
      " 'industria_comercio_e_negocios' 'telefonia_fixa'\n",
      " 'construcao_ferramentas_iluminacao' 'livros_tecnicos'\n",
      " 'eletrodomesticos_2' 'artigos_de_festas' 'bebidas' 'market_place'\n",
      " 'la_cuisine' 'construcao_ferramentas_jardim' 'fashion_roupa_feminina'\n",
      " 'casa_conforto' 'audio' 'alimentos_bebidas' 'musica' 'alimentos'\n",
      " 'tablets_impressao_imagem' 'livros_importados'\n",
      " 'portateis_casa_forno_e_cafe' 'fashion_esporte' 'artigos_de_natal'\n",
      " 'fashion_roupa_infanto_juvenil' 'dvds_blu_ray' 'artes_e_artesanato'\n",
      " 'pc_gamer' 'moveis_quarto' 'cine_foto' 'fraldas_higiene' 'flores'\n",
      " 'casa_conforto_2' 'portateis_cozinha_e_preparadores_de_alimentos'\n",
      " 'seguros_e_servicos' 'moveis_colchao_e_estofado' 'cds_dvds_musicais']\n"
     ]
    }
   ],
   "source": [
    "# retrieve unique categories in the table\n",
    "with pd.option_context('display.max_rows', None, 'display.max_columns', None):\n",
    "    print(table2[\"product_category_name\"].unique())"
   ]
  },
  {
   "cell_type": "code",
   "execution_count": 160,
   "id": "c46b4749",
   "metadata": {},
   "outputs": [
    {
     "name": "stderr",
     "output_type": "stream",
     "text": [
      "C:\\Users\\651345\\AppData\\Local\\Temp\\ipykernel_18224\\178096541.py:29: SettingWithCopyWarning: \n",
      "A value is trying to be set on a copy of a slice from a DataFrame\n",
      "\n",
      "See the caveats in the documentation: https://pandas.pydata.org/pandas-docs/stable/user_guide/indexing.html#returning-a-view-versus-a-copy\n",
      "  table2[\"product_category_name\"].replace(map_category, inplace=True)\n"
     ]
    },
    {
     "data": {
      "text/plain": [
       "0                                         perfumaria\n",
       "1                                              artes\n",
       "2                                      esporte_lazer\n",
       "3                                              bebes\n",
       "4                              utilidades_domesticas\n",
       "5                              instrumentos_musicais\n",
       "6                                         cool_stuff\n",
       "7                                   moveis_decoracao\n",
       "8                                   eletrodomesticos\n",
       "9                                         brinquedos\n",
       "10                                   cama_mesa_banho\n",
       "11                  construcao_ferramentas_seguranca\n",
       "12                                               pcs\n",
       "13                                      beleza_saude\n",
       "14                                  malas_acessorios\n",
       "15                                ferramentas_jardim\n",
       "16                                 moveis_escritorio\n",
       "17                                        automotivo\n",
       "18                                       eletronicos\n",
       "19                                  fashion_calcados\n",
       "20                                         telefonia\n",
       "21                                         papelaria\n",
       "22                       fashion_bolsas_e_acessorios\n",
       "23                                   casa_construcao\n",
       "24                                relogios_presentes\n",
       "25                            construcao_ferramentas\n",
       "26                                          pet_shop\n",
       "27                                   eletroportateis\n",
       "28                         agro_industria_e_comercio\n",
       "29                                       moveis_sala\n",
       "30                           sinalizacao_e_seguranca\n",
       "31                                      climatizacao\n",
       "32                                    consoles_games\n",
       "33                                            livros\n",
       "34                    fashion_underwear_e_moda_praia\n",
       "35                           fashion_roupa_masculina\n",
       "36    moveis_cozinha_area_de_servico_jantar_e_jardim\n",
       "37                     industria_comercio_e_negocios\n",
       "38                 construcao_ferramentas_iluminacao\n",
       "39                                 artigos_de_festas\n",
       "40                                 alimentos_bebidas\n",
       "41                                      market_place\n",
       "42                                        la_cuisine\n",
       "43                            fashion_roupa_feminina\n",
       "44                                     casa_conforto\n",
       "45                                             audio\n",
       "46                                            musica\n",
       "47                                      electronicos\n",
       "48                       portateis_casa_forno_e_cafe\n",
       "49                                   fashion_esporte\n",
       "50                     fashion_roupa_infanto_juvenil\n",
       "51                                      dvds_blu_ray\n",
       "52                                     moveis_quarto\n",
       "53                                         cine_foto\n",
       "54                                   fraldas_higiene\n",
       "55                                            flores\n",
       "56                                seguros_e_servicos\n",
       "57                         moveis_colchao_e_estofado\n",
       "58                                 cds_dvds_musicais\n",
       "dtype: object"
      ]
     },
     "execution_count": 160,
     "metadata": {},
     "output_type": "execute_result"
    }
   ],
   "source": [
    "# grouping the category for consistency\n",
    "map_category = {    \n",
    "    \"construcao_ferramentas_construcao\" : \"construcao_ferramentas\",\n",
    "    \"construcao_ferramentas_ferramentas\" : \"construcao_ferramentas\",\n",
    "    \"construcao_ferramentas_jardim\" : \"ferramentas_jardim\",\n",
    "    \n",
    "    \"livros_tecnicos\" : \"livros\",\n",
    "    \"livros_interesse_geral\" : \"livros\",\n",
    "    \"livros_importados\" : \"livros\",\n",
    "    \n",
    "    \"eletrodomesticos_2\" : \"eletrodomesticos\",\n",
    "    \"casa_conforto_2\" : \"casa_conforto\",\n",
    "    \"portateis_cozinha_e_preparadores_de_alimentos\" : \"la_cuisine\",\n",
    "    \n",
    "    \"artes_e_artesanato\" : \"artes\",\n",
    "    \"informatica_acessorios\" : \"pcs\",\n",
    "    \"pc_gamer\" : \"pcs\",\n",
    "    \n",
    "    \"tablets_impressao_imagem\" : \"electronicos\",\n",
    "    \"telefonia_fixa\" : \"telefonia\",\n",
    "\n",
    "    \"bebidas\" : \"alimentos_bebidas\",\n",
    "    \"alimentos\" : \"alimentos_bebidas\",\n",
    "    \"artigos_de_natal\" : \"artigos_de_festas\",\n",
    "}\n",
    "\n",
    "table2[\"product_category_name\"].replace(map_category, inplace=True)\n",
    "pd.Series(table2[\"product_category_name\"].unique())"
   ]
  },
  {
   "cell_type": "markdown",
   "id": "a86f27b2",
   "metadata": {},
   "source": [
    "### Handling Incorrect Datatype"
   ]
  },
  {
   "cell_type": "code",
   "execution_count": 161,
   "id": "6b35950f",
   "metadata": {},
   "outputs": [
    {
     "name": "stdout",
     "output_type": "stream",
     "text": [
      "<class 'pandas.core.frame.DataFrame'>\n",
      "Int64Index: 111047 entries, 0 to 112649\n",
      "Data columns (total 12 columns):\n",
      " #   Column                      Non-Null Count   Dtype  \n",
      "---  ------                      --------------   -----  \n",
      " 0   product_id                  111047 non-null  object \n",
      " 1   product_category_name       111047 non-null  object \n",
      " 2   product_name_lenght         111047 non-null  int32  \n",
      " 3   product_description_lenght  111047 non-null  int32  \n",
      " 4   product_photos_qty          111047 non-null  int32  \n",
      " 5   product_weight_g            111047 non-null  int32  \n",
      " 6   product_length_cm           111047 non-null  int32  \n",
      " 7   product_height_cm           111047 non-null  int32  \n",
      " 8   product_width_cm            111047 non-null  int32  \n",
      " 9   order_id                    111047 non-null  object \n",
      " 10  order_item_id               111047 non-null  int64  \n",
      " 11  price                       111047 non-null  float64\n",
      "dtypes: float64(1), int32(7), int64(1), object(3)\n",
      "memory usage: 8.0+ MB\n"
     ]
    },
    {
     "name": "stderr",
     "output_type": "stream",
     "text": [
      "C:\\Users\\651345\\AppData\\Local\\Temp\\ipykernel_18224\\122068927.py:4: SettingWithCopyWarning: \n",
      "A value is trying to be set on a copy of a slice from a DataFrame.\n",
      "Try using .loc[row_indexer,col_indexer] = value instead\n",
      "\n",
      "See the caveats in the documentation: https://pandas.pydata.org/pandas-docs/stable/user_guide/indexing.html#returning-a-view-versus-a-copy\n",
      "  table2[\"product_name_lenght\"] = table2[\"product_name_lenght\"].astype(int)\n",
      "C:\\Users\\651345\\AppData\\Local\\Temp\\ipykernel_18224\\122068927.py:5: SettingWithCopyWarning: \n",
      "A value is trying to be set on a copy of a slice from a DataFrame.\n",
      "Try using .loc[row_indexer,col_indexer] = value instead\n",
      "\n",
      "See the caveats in the documentation: https://pandas.pydata.org/pandas-docs/stable/user_guide/indexing.html#returning-a-view-versus-a-copy\n",
      "  table2[\"product_description_lenght\"] = table2[\"product_description_lenght\"].astype(int)\n",
      "C:\\Users\\651345\\AppData\\Local\\Temp\\ipykernel_18224\\122068927.py:6: SettingWithCopyWarning: \n",
      "A value is trying to be set on a copy of a slice from a DataFrame.\n",
      "Try using .loc[row_indexer,col_indexer] = value instead\n",
      "\n",
      "See the caveats in the documentation: https://pandas.pydata.org/pandas-docs/stable/user_guide/indexing.html#returning-a-view-versus-a-copy\n",
      "  table2[\"product_photos_qty\"] = table2[\"product_photos_qty\"].astype(int)\n",
      "C:\\Users\\651345\\AppData\\Local\\Temp\\ipykernel_18224\\122068927.py:7: SettingWithCopyWarning: \n",
      "A value is trying to be set on a copy of a slice from a DataFrame.\n",
      "Try using .loc[row_indexer,col_indexer] = value instead\n",
      "\n",
      "See the caveats in the documentation: https://pandas.pydata.org/pandas-docs/stable/user_guide/indexing.html#returning-a-view-versus-a-copy\n",
      "  table2[\"product_weight_g\"] = table2[\"product_weight_g\"].astype(int)\n",
      "C:\\Users\\651345\\AppData\\Local\\Temp\\ipykernel_18224\\122068927.py:8: SettingWithCopyWarning: \n",
      "A value is trying to be set on a copy of a slice from a DataFrame.\n",
      "Try using .loc[row_indexer,col_indexer] = value instead\n",
      "\n",
      "See the caveats in the documentation: https://pandas.pydata.org/pandas-docs/stable/user_guide/indexing.html#returning-a-view-versus-a-copy\n",
      "  table2[\"product_length_cm\"] = table2[\"product_length_cm\"].astype(int)\n",
      "C:\\Users\\651345\\AppData\\Local\\Temp\\ipykernel_18224\\122068927.py:9: SettingWithCopyWarning: \n",
      "A value is trying to be set on a copy of a slice from a DataFrame.\n",
      "Try using .loc[row_indexer,col_indexer] = value instead\n",
      "\n",
      "See the caveats in the documentation: https://pandas.pydata.org/pandas-docs/stable/user_guide/indexing.html#returning-a-view-versus-a-copy\n",
      "  table2[\"product_height_cm\"] = table2[\"product_height_cm\"].astype(int)\n",
      "C:\\Users\\651345\\AppData\\Local\\Temp\\ipykernel_18224\\122068927.py:10: SettingWithCopyWarning: \n",
      "A value is trying to be set on a copy of a slice from a DataFrame.\n",
      "Try using .loc[row_indexer,col_indexer] = value instead\n",
      "\n",
      "See the caveats in the documentation: https://pandas.pydata.org/pandas-docs/stable/user_guide/indexing.html#returning-a-view-versus-a-copy\n",
      "  table2[\"product_width_cm\"] = table2[\"product_width_cm\"].astype(int)\n"
     ]
    }
   ],
   "source": [
    "# convert float columns to integer\n",
    "table2[\"product_name_lenght\"] = table2[\"product_name_lenght\"].astype(int)\n",
    "table2[\"product_description_lenght\"] = table2[\"product_description_lenght\"].astype(int)\n",
    "table2[\"product_photos_qty\"] = table2[\"product_photos_qty\"].astype(int)\n",
    "table2[\"product_weight_g\"] = table2[\"product_weight_g\"].astype(int)\n",
    "table2[\"product_length_cm\"] = table2[\"product_length_cm\"].astype(int)\n",
    "table2[\"product_height_cm\"] = table2[\"product_height_cm\"].astype(int)\n",
    "table2[\"product_width_cm\"] = table2[\"product_width_cm\"].astype(int)\n",
    "table2.info()"
   ]
  },
  {
   "cell_type": "markdown",
   "id": "a3ec0f6f",
   "metadata": {},
   "source": [
    "### Outlier Handling "
   ]
  },
  {
   "cell_type": "code",
   "execution_count": 162,
   "id": "e53ac88a",
   "metadata": {},
   "outputs": [
    {
     "data": {
      "image/png": "[encoded data removed]",
      "text/plain": [
       "<Figure size 600x300 with 1 Axes>"
      ]
     },
     "metadata": {},
     "output_type": "display_data"
    },
    {
     "data": {
      "text/html": [
       "<div>\n",
       "<style scoped>\n",
       "    .dataframe tbody tr th:only-of-type {\n",
       "        vertical-align: middle;\n",
       "    }\n",
       "\n",
       "    .dataframe tbody tr th {\n",
       "        vertical-align: top;\n",
       "    }\n",
       "\n",
       "    .dataframe thead th {\n",
       "        text-align: right;\n",
       "    }\n",
       "</style>\n",
       "<table border=\"1\" class=\"dataframe\">\n",
       "  <thead>\n",
       "    <tr style=\"text-align: right;\">\n",
       "      <th></th>\n",
       "      <th>count</th>\n",
       "      <th>mean</th>\n",
       "      <th>std</th>\n",
       "      <th>min</th>\n",
       "      <th>25%</th>\n",
       "      <th>50%</th>\n",
       "      <th>75%</th>\n",
       "      <th>max</th>\n",
       "    </tr>\n",
       "  </thead>\n",
       "  <tbody>\n",
       "    <tr>\n",
       "      <th>product_name_lenght</th>\n",
       "      <td>111047.0</td>\n",
       "      <td>48.775978</td>\n",
       "      <td>10.025581</td>\n",
       "      <td>5.00</td>\n",
       "      <td>42.0</td>\n",
       "      <td>52.00</td>\n",
       "      <td>57.0</td>\n",
       "      <td>76.0</td>\n",
       "    </tr>\n",
       "    <tr>\n",
       "      <th>product_description_lenght</th>\n",
       "      <td>111047.0</td>\n",
       "      <td>787.867029</td>\n",
       "      <td>652.135608</td>\n",
       "      <td>4.00</td>\n",
       "      <td>348.0</td>\n",
       "      <td>603.00</td>\n",
       "      <td>987.0</td>\n",
       "      <td>3992.0</td>\n",
       "    </tr>\n",
       "    <tr>\n",
       "      <th>product_photos_qty</th>\n",
       "      <td>111047.0</td>\n",
       "      <td>2.209713</td>\n",
       "      <td>1.721438</td>\n",
       "      <td>1.00</td>\n",
       "      <td>1.0</td>\n",
       "      <td>1.00</td>\n",
       "      <td>3.0</td>\n",
       "      <td>20.0</td>\n",
       "    </tr>\n",
       "    <tr>\n",
       "      <th>product_weight_g</th>\n",
       "      <td>111047.0</td>\n",
       "      <td>2099.967050</td>\n",
       "      <td>3754.770669</td>\n",
       "      <td>0.00</td>\n",
       "      <td>300.0</td>\n",
       "      <td>700.00</td>\n",
       "      <td>1800.0</td>\n",
       "      <td>40425.0</td>\n",
       "    </tr>\n",
       "    <tr>\n",
       "      <th>product_length_cm</th>\n",
       "      <td>111047.0</td>\n",
       "      <td>30.210956</td>\n",
       "      <td>16.189286</td>\n",
       "      <td>7.00</td>\n",
       "      <td>18.0</td>\n",
       "      <td>25.00</td>\n",
       "      <td>38.0</td>\n",
       "      <td>105.0</td>\n",
       "    </tr>\n",
       "    <tr>\n",
       "      <th>product_height_cm</th>\n",
       "      <td>111047.0</td>\n",
       "      <td>16.626329</td>\n",
       "      <td>13.467404</td>\n",
       "      <td>2.00</td>\n",
       "      <td>8.0</td>\n",
       "      <td>13.00</td>\n",
       "      <td>20.0</td>\n",
       "      <td>105.0</td>\n",
       "    </tr>\n",
       "    <tr>\n",
       "      <th>product_width_cm</th>\n",
       "      <td>111047.0</td>\n",
       "      <td>23.041928</td>\n",
       "      <td>11.716610</td>\n",
       "      <td>6.00</td>\n",
       "      <td>15.0</td>\n",
       "      <td>20.00</td>\n",
       "      <td>30.0</td>\n",
       "      <td>118.0</td>\n",
       "    </tr>\n",
       "    <tr>\n",
       "      <th>order_item_id</th>\n",
       "      <td>111047.0</td>\n",
       "      <td>1.198213</td>\n",
       "      <td>0.706872</td>\n",
       "      <td>1.00</td>\n",
       "      <td>1.0</td>\n",
       "      <td>1.00</td>\n",
       "      <td>1.0</td>\n",
       "      <td>21.0</td>\n",
       "    </tr>\n",
       "    <tr>\n",
       "      <th>price</th>\n",
       "      <td>111047.0</td>\n",
       "      <td>120.778665</td>\n",
       "      <td>183.419692</td>\n",
       "      <td>0.85</td>\n",
       "      <td>39.9</td>\n",
       "      <td>74.99</td>\n",
       "      <td>134.9</td>\n",
       "      <td>6735.0</td>\n",
       "    </tr>\n",
       "  </tbody>\n",
       "</table>\n",
       "</div>"
      ],
      "text/plain": [
       "                               count         mean          std   min    25%  \\\n",
       "product_name_lenght         111047.0    48.775978    10.025581  5.00   42.0   \n",
       "product_description_lenght  111047.0   787.867029   652.135608  4.00  348.0   \n",
       "product_photos_qty          111047.0     2.209713     1.721438  1.00    1.0   \n",
       "product_weight_g            111047.0  2099.967050  3754.770669  0.00  300.0   \n",
       "product_length_cm           111047.0    30.210956    16.189286  7.00   18.0   \n",
       "product_height_cm           111047.0    16.626329    13.467404  2.00    8.0   \n",
       "product_width_cm            111047.0    23.041928    11.716610  6.00   15.0   \n",
       "order_item_id               111047.0     1.198213     0.706872  1.00    1.0   \n",
       "price                       111047.0   120.778665   183.419692  0.85   39.9   \n",
       "\n",
       "                               50%     75%      max  \n",
       "product_name_lenght          52.00    57.0     76.0  \n",
       "product_description_lenght  603.00   987.0   3992.0  \n",
       "product_photos_qty            1.00     3.0     20.0  \n",
       "product_weight_g            700.00  1800.0  40425.0  \n",
       "product_length_cm            25.00    38.0    105.0  \n",
       "product_height_cm            13.00    20.0    105.0  \n",
       "product_width_cm             20.00    30.0    118.0  \n",
       "order_item_id                 1.00     1.0     21.0  \n",
       "price                        74.99   134.9   6735.0  "
      ]
     },
     "execution_count": 162,
     "metadata": {},
     "output_type": "execute_result"
    }
   ],
   "source": [
    "# create dataframe of numerical columns to plot\n",
    "outlier_check = pd.DataFrame(data = table2,\n",
    "                             columns = ['product_name_lenght','product_description_lenght',\n",
    "                                        'product_photos_qty','product_weight_g',\n",
    "                                        'product_length_cm','product_height_cm',\n",
    "                                        'product_width_cm', 'price'])\n",
    "\n",
    "# set plot size\n",
    "sns.set(rc={'figure.figsize':(6,3)})\n",
    "\n",
    "# plot dataframe\n",
    "sns.boxplot(x=\"value\", y=\"variable\", data=pd.melt(outlier_check), orient=\"h\")\n",
    "\n",
    "# show boxplot\n",
    "plt.show()\n",
    "\n",
    "# calculate statistical descriptive of each column\n",
    "table2.describe().transpose()"
   ]
  },
  {
   "cell_type": "code",
   "execution_count": 163,
   "id": "c01eabf5",
   "metadata": {},
   "outputs": [
    {
     "name": "stderr",
     "output_type": "stream",
     "text": [
      "C:\\Users\\651345\\AppData\\Local\\Temp\\ipykernel_18224\\3111714486.py:4: SettingWithCopyWarning: \n",
      "A value is trying to be set on a copy of a slice from a DataFrame\n",
      "\n",
      "See the caveats in the documentation: https://pandas.pydata.org/pandas-docs/stable/user_guide/indexing.html#returning-a-view-versus-a-copy\n",
      "  table2.drop(table2[table2[\"product_weight_g\"]==40425.0].index, inplace=True)\n"
     ]
    },
    {
     "data": {
      "image/png": "[encoded data removed]",
      "text/plain": [
       "<Figure size 600x300 with 1 Axes>"
      ]
     },
     "metadata": {},
     "output_type": "display_data"
    },
    {
     "data": {
      "text/html": [
       "<div>\n",
       "<style scoped>\n",
       "    .dataframe tbody tr th:only-of-type {\n",
       "        vertical-align: middle;\n",
       "    }\n",
       "\n",
       "    .dataframe tbody tr th {\n",
       "        vertical-align: top;\n",
       "    }\n",
       "\n",
       "    .dataframe thead th {\n",
       "        text-align: right;\n",
       "    }\n",
       "</style>\n",
       "<table border=\"1\" class=\"dataframe\">\n",
       "  <thead>\n",
       "    <tr style=\"text-align: right;\">\n",
       "      <th></th>\n",
       "      <th>count</th>\n",
       "      <th>mean</th>\n",
       "      <th>std</th>\n",
       "      <th>min</th>\n",
       "      <th>25%</th>\n",
       "      <th>50%</th>\n",
       "      <th>75%</th>\n",
       "      <th>max</th>\n",
       "    </tr>\n",
       "  </thead>\n",
       "  <tbody>\n",
       "    <tr>\n",
       "      <th>product_name_lenght</th>\n",
       "      <td>111044.0</td>\n",
       "      <td>48.775702</td>\n",
       "      <td>10.025576</td>\n",
       "      <td>5.00</td>\n",
       "      <td>42.0</td>\n",
       "      <td>52.00</td>\n",
       "      <td>57.0</td>\n",
       "      <td>76.0</td>\n",
       "    </tr>\n",
       "    <tr>\n",
       "      <th>product_description_lenght</th>\n",
       "      <td>111044.0</td>\n",
       "      <td>787.873888</td>\n",
       "      <td>652.143082</td>\n",
       "      <td>4.00</td>\n",
       "      <td>348.0</td>\n",
       "      <td>603.00</td>\n",
       "      <td>987.0</td>\n",
       "      <td>3992.0</td>\n",
       "    </tr>\n",
       "    <tr>\n",
       "      <th>product_photos_qty</th>\n",
       "      <td>111044.0</td>\n",
       "      <td>2.209746</td>\n",
       "      <td>1.721450</td>\n",
       "      <td>1.00</td>\n",
       "      <td>1.0</td>\n",
       "      <td>1.00</td>\n",
       "      <td>3.0</td>\n",
       "      <td>20.0</td>\n",
       "    </tr>\n",
       "    <tr>\n",
       "      <th>product_weight_g</th>\n",
       "      <td>111044.0</td>\n",
       "      <td>2038.873023</td>\n",
       "      <td>3403.129165</td>\n",
       "      <td>0.00</td>\n",
       "      <td>300.0</td>\n",
       "      <td>700.00</td>\n",
       "      <td>1800.0</td>\n",
       "      <td>18214.0</td>\n",
       "    </tr>\n",
       "    <tr>\n",
       "      <th>product_length_cm</th>\n",
       "      <td>111044.0</td>\n",
       "      <td>30.211421</td>\n",
       "      <td>16.189258</td>\n",
       "      <td>7.00</td>\n",
       "      <td>18.0</td>\n",
       "      <td>25.00</td>\n",
       "      <td>38.0</td>\n",
       "      <td>105.0</td>\n",
       "    </tr>\n",
       "    <tr>\n",
       "      <th>product_height_cm</th>\n",
       "      <td>111044.0</td>\n",
       "      <td>16.625023</td>\n",
       "      <td>13.465239</td>\n",
       "      <td>2.00</td>\n",
       "      <td>8.0</td>\n",
       "      <td>13.00</td>\n",
       "      <td>20.0</td>\n",
       "      <td>105.0</td>\n",
       "    </tr>\n",
       "    <tr>\n",
       "      <th>product_width_cm</th>\n",
       "      <td>111044.0</td>\n",
       "      <td>23.041794</td>\n",
       "      <td>11.716740</td>\n",
       "      <td>6.00</td>\n",
       "      <td>15.0</td>\n",
       "      <td>20.00</td>\n",
       "      <td>30.0</td>\n",
       "      <td>118.0</td>\n",
       "    </tr>\n",
       "    <tr>\n",
       "      <th>order_item_id</th>\n",
       "      <td>111044.0</td>\n",
       "      <td>1.198219</td>\n",
       "      <td>0.706881</td>\n",
       "      <td>1.00</td>\n",
       "      <td>1.0</td>\n",
       "      <td>1.00</td>\n",
       "      <td>1.0</td>\n",
       "      <td>21.0</td>\n",
       "    </tr>\n",
       "    <tr>\n",
       "      <th>price</th>\n",
       "      <td>111044.0</td>\n",
       "      <td>115.439123</td>\n",
       "      <td>136.630401</td>\n",
       "      <td>0.85</td>\n",
       "      <td>39.9</td>\n",
       "      <td>74.99</td>\n",
       "      <td>134.9</td>\n",
       "      <td>890.0</td>\n",
       "    </tr>\n",
       "  </tbody>\n",
       "</table>\n",
       "</div>"
      ],
      "text/plain": [
       "                               count         mean          std   min    25%  \\\n",
       "product_name_lenght         111044.0    48.775702    10.025576  5.00   42.0   \n",
       "product_description_lenght  111044.0   787.873888   652.143082  4.00  348.0   \n",
       "product_photos_qty          111044.0     2.209746     1.721450  1.00    1.0   \n",
       "product_weight_g            111044.0  2038.873023  3403.129165  0.00  300.0   \n",
       "product_length_cm           111044.0    30.211421    16.189258  7.00   18.0   \n",
       "product_height_cm           111044.0    16.625023    13.465239  2.00    8.0   \n",
       "product_width_cm            111044.0    23.041794    11.716740  6.00   15.0   \n",
       "order_item_id               111044.0     1.198219     0.706881  1.00    1.0   \n",
       "price                       111044.0   115.439123   136.630401  0.85   39.9   \n",
       "\n",
       "                               50%     75%      max  \n",
       "product_name_lenght          52.00    57.0     76.0  \n",
       "product_description_lenght  603.00   987.0   3992.0  \n",
       "product_photos_qty            1.00     3.0     20.0  \n",
       "product_weight_g            700.00  1800.0  18214.0  \n",
       "product_length_cm            25.00    38.0    105.0  \n",
       "product_height_cm            13.00    20.0    105.0  \n",
       "product_width_cm             20.00    30.0    118.0  \n",
       "order_item_id                 1.00     1.0     21.0  \n",
       "price                        74.99   134.9    890.0  "
      ]
     },
     "execution_count": 163,
     "metadata": {},
     "output_type": "execute_result"
    }
   ],
   "source": [
    "# drop extreme outliers in product weight\n",
    "table2.drop(table2[table2[\"product_weight_g\"]==40425.0].index, inplace=True)\n",
    "\n",
    "#Calculate Upper limit of product weight (99th Percentile)\n",
    "p99_weight = int(table2[\"product_weight_g\"].quantile(q=0.99))\n",
    "table2.loc[table2[\"product_weight_g\"] > p99_weight, \"product_weight_g\"] = p99_weight\n",
    "\n",
    "#Calculate Upper limit of product weight (99th Percentile)\n",
    "p99_price = table2[\"price\"].quantile(q=0.99)\n",
    "table2.loc[table2[\"price\"] > p99_price, \"price\"] = p99_price\n",
    "\n",
    "# re-check whether the outlier handling performed\n",
    "outlier_check = pd.DataFrame(data = table2,\n",
    "                             columns = ['product_name_lenght','product_description_lenght',\n",
    "                                        'product_photos_qty','product_weight_g',\n",
    "                                        'product_length_cm','product_height_cm',\n",
    "                                        'product_width_cm', 'price'])\n",
    "\n",
    "sns.set(rc={'figure.figsize':(6,3)})\n",
    "sns.boxplot(x=\"value\", y=\"variable\", data=pd.melt(outlier_check), orient=\"h\")\n",
    "plt.show()\n",
    "table2.describe().transpose()"
   ]
  },
  {
   "cell_type": "markdown",
   "id": "7cf2b745",
   "metadata": {},
   "source": [
    "# Data Analysis\n",
    "### Case 1 - Best Selling Category"
   ]
  },
  {
   "cell_type": "code",
   "execution_count": 171,
   "id": "ff3ec97d",
   "metadata": {},
   "outputs": [
    {
     "name": "stdout",
     "output_type": "stream",
     "text": [
      "                               order_id\n",
      "product_category_name                  \n",
      "cama_mesa_banho                   11112\n",
      "beleza_saude                       9670\n",
      "esporte_lazer                      8641\n",
      "...                                 ...\n",
      "cds_dvds_musicais                    14\n",
      "fashion_roupa_infanto_juvenil         8\n",
      "seguros_e_servicos                    2\n",
      "\n",
      "[59 rows x 1 columns]\n"
     ]
    }
   ],
   "source": [
    "# count order_id by product category\n",
    "best_selling_category = table2[[\"product_category_name\", \"order_id\"]].groupby(\"product_category_name\").agg(\"count\")\n",
    "\n",
    "# sort best-selling category from most to least\n",
    "best_selling_category = best_selling_category.sort_values(by=[\"order_id\"], ascending=False)\n",
    "\n",
    "# show top 3 and bottom 3\n",
    "with pd.option_context('display.max_rows',6):\n",
    "    print(best_selling_category)"
   ]
  },
  {
   "cell_type": "markdown",
   "id": "de6f473b",
   "metadata": {},
   "source": [
    "### Case 2 - Price Range of TOP #1 Category"
   ]
  },
  {
   "cell_type": "code",
   "execution_count": 172,
   "id": "abd500f4",
   "metadata": {},
   "outputs": [
    {
     "data": {
      "image/png": "[encoded data removed]",
      "text/plain": [
       "<Figure size 500x100 with 1 Axes>"
      ]
     },
     "metadata": {},
     "output_type": "display_data"
    },
    {
     "data": {
      "text/html": [
       "<div>\n",
       "<style scoped>\n",
       "    .dataframe tbody tr th:only-of-type {\n",
       "        vertical-align: middle;\n",
       "    }\n",
       "\n",
       "    .dataframe tbody tr th {\n",
       "        vertical-align: top;\n",
       "    }\n",
       "\n",
       "    .dataframe thead th {\n",
       "        text-align: right;\n",
       "    }\n",
       "</style>\n",
       "<table border=\"1\" class=\"dataframe\">\n",
       "  <thead>\n",
       "    <tr style=\"text-align: right;\">\n",
       "      <th></th>\n",
       "      <th>count</th>\n",
       "      <th>mean</th>\n",
       "      <th>std</th>\n",
       "      <th>min</th>\n",
       "      <th>25%</th>\n",
       "      <th>50%</th>\n",
       "      <th>75%</th>\n",
       "      <th>max</th>\n",
       "    </tr>\n",
       "  </thead>\n",
       "  <tbody>\n",
       "    <tr>\n",
       "      <th>price</th>\n",
       "      <td>10157.0</td>\n",
       "      <td>94.209317</td>\n",
       "      <td>73.715473</td>\n",
       "      <td>6.99</td>\n",
       "      <td>49.89</td>\n",
       "      <td>79.9</td>\n",
       "      <td>116.9</td>\n",
       "      <td>890.0</td>\n",
       "    </tr>\n",
       "  </tbody>\n",
       "</table>\n",
       "</div>"
      ],
      "text/plain": [
       "         count       mean        std   min    25%   50%    75%    max\n",
       "price  10157.0  94.209317  73.715473  6.99  49.89  79.9  116.9  890.0"
      ]
     },
     "execution_count": 172,
     "metadata": {},
     "output_type": "execute_result"
    }
   ],
   "source": [
    "# create table consists of order_id, product_id, and price of cama_mesa_banho products\n",
    "cama_mesa_banho = table2.loc[table2[\"product_category_name\"] == \"cama_mesa_banho\"][\n",
    "                 [\"order_id\",\"product_id\", \"product_category_name\", \"price\"]\n",
    "                 ].drop_duplicates().reset_index().drop(\"index\", axis=1)\n",
    "\n",
    "# set plot size\n",
    "fig = plt.figure(figsize =(5,1))\n",
    " \n",
    "# Create plot\n",
    "plot = plt.boxplot(cama_mesa_banho[\"price\"], vert=False)\n",
    " \n",
    "# show plot\n",
    "plt.show()\n",
    "cama_mesa_banho.describe().transpose()"
   ]
  },
  {
   "cell_type": "markdown",
   "id": "2053021e",
   "metadata": {},
   "source": [
    "### Case 3 - Correlation between charateristics"
   ]
  },
  {
   "cell_type": "code",
   "execution_count": 201,
   "id": "58447cbc",
   "metadata": {},
   "outputs": [
    {
     "data": {
      "text/plain": [
       "<AxesSubplot: >"
      ]
     },
     "execution_count": 201,
     "metadata": {},
     "output_type": "execute_result"
    },
    {
     "data": {
      "image/png": "[encoded data removed]",
      "text/plain": [
       "<Figure size 500x250 with 2 Axes>"
      ]
     },
     "metadata": {},
     "output_type": "display_data"
    }
   ],
   "source": [
    "# set plot size\n",
    "sns.set(rc={'figure.figsize':(5,2.5)})\n",
    "sns.set(font_scale=0.75)\n",
    "\n",
    "# calculate correlation value between numerical columns\n",
    "corr = table2.loc[table2[\"product_category_name\"] == \"cama_mesa_banho\"].drop_duplicates().corr(method=\"pearson\")\n",
    "\n",
    "# plot the value to heatmap\n",
    "sns.heatmap(corr)"
   ]
  },
  {
   "cell_type": "markdown",
   "id": "383c4598",
   "metadata": {},
   "source": [
    "### Case 4 - TOP 10 Product of The Best Category"
   ]
  },
  {
   "cell_type": "code",
   "execution_count": 249,
   "id": "55e1b083",
   "metadata": {},
   "outputs": [
    {
     "name": "stdout",
     "output_type": "stream",
     "text": [
      "                            product_id  order_id\n",
      "0     99a4788cb24856965c36a24e339b6058       488\n",
      "1     f1c7f353075ce59d8a6f3cf58f419c9c       154\n",
      "2     06edb72f1e0c64b14c5b79353f7abea3       143\n",
      "...                                ...       ...\n",
      "3025  6947c3397dae24c49aa4b34b68bf3b09         1\n",
      "3026  693e8a3550dfe12cd2a3f2a3f01b6130         1\n",
      "3027  7ddb6ba690b14dee5c0f2d372e034cec         1\n",
      "\n",
      "[3028 rows x 2 columns]\n"
     ]
    }
   ],
   "source": [
    "# count order_id by product id\n",
    "best_selling_cama = table2[table2[\"product_category_name\"] == \"cama_mesa_banho\"\n",
    "                          ][[\"product_id\",\"order_id\"]].groupby(\"product_id\").agg(\"count\")\n",
    "\n",
    "# sort best-selling product\n",
    "best_selling_cama = best_selling_cama.sort_values(by=[\"order_id\"], ascending=False).reset_index()\n",
    "\n",
    "# show top 3 and bottom 3\n",
    "with pd.option_context('display.max_rows',6):\n",
    "    print(best_selling_cama)"
   ]
  },
  {
   "cell_type": "markdown",
   "id": "827f5c94",
   "metadata": {},
   "source": [
    "### Case 5 - Characteristic of TOP 10 Products"
   ]
  },
  {
   "cell_type": "code",
   "execution_count": 275,
   "id": "cf0c4836",
   "metadata": {},
   "outputs": [
    {
     "data": {
      "text/html": [
       "<div>\n",
       "<style scoped>\n",
       "    .dataframe tbody tr th:only-of-type {\n",
       "        vertical-align: middle;\n",
       "    }\n",
       "\n",
       "    .dataframe tbody tr th {\n",
       "        vertical-align: top;\n",
       "    }\n",
       "\n",
       "    .dataframe thead th {\n",
       "        text-align: right;\n",
       "    }\n",
       "</style>\n",
       "<table border=\"1\" class=\"dataframe\">\n",
       "  <thead>\n",
       "    <tr style=\"text-align: right;\">\n",
       "      <th></th>\n",
       "      <th>count</th>\n",
       "      <th>mean</th>\n",
       "      <th>std</th>\n",
       "      <th>min</th>\n",
       "      <th>25%</th>\n",
       "      <th>50%</th>\n",
       "      <th>75%</th>\n",
       "      <th>max</th>\n",
       "    </tr>\n",
       "  </thead>\n",
       "  <tbody>\n",
       "    <tr>\n",
       "      <th>product_name_lenght</th>\n",
       "      <td>53.0</td>\n",
       "      <td>52.000000</td>\n",
       "      <td>6.639045</td>\n",
       "      <td>38.000000</td>\n",
       "      <td>46.000000</td>\n",
       "      <td>55.000000</td>\n",
       "      <td>56.000000</td>\n",
       "      <td>60.000000</td>\n",
       "    </tr>\n",
       "    <tr>\n",
       "      <th>product_description_lenght</th>\n",
       "      <td>53.0</td>\n",
       "      <td>348.622642</td>\n",
       "      <td>206.832450</td>\n",
       "      <td>161.000000</td>\n",
       "      <td>162.000000</td>\n",
       "      <td>279.000000</td>\n",
       "      <td>329.000000</td>\n",
       "      <td>744.000000</td>\n",
       "    </tr>\n",
       "    <tr>\n",
       "      <th>product_photos_qty</th>\n",
       "      <td>53.0</td>\n",
       "      <td>2.283019</td>\n",
       "      <td>1.758248</td>\n",
       "      <td>1.000000</td>\n",
       "      <td>1.000000</td>\n",
       "      <td>1.000000</td>\n",
       "      <td>5.000000</td>\n",
       "      <td>5.000000</td>\n",
       "    </tr>\n",
       "    <tr>\n",
       "      <th>product_weight_g</th>\n",
       "      <td>53.0</td>\n",
       "      <td>0.523512</td>\n",
       "      <td>0.056097</td>\n",
       "      <td>0.405529</td>\n",
       "      <td>0.497043</td>\n",
       "      <td>0.513004</td>\n",
       "      <td>0.593473</td>\n",
       "      <td>0.600865</td>\n",
       "    </tr>\n",
       "    <tr>\n",
       "      <th>product_length_cm</th>\n",
       "      <td>53.0</td>\n",
       "      <td>0.207444</td>\n",
       "      <td>0.040338</td>\n",
       "      <td>0.114287</td>\n",
       "      <td>0.188666</td>\n",
       "      <td>0.215757</td>\n",
       "      <td>0.230186</td>\n",
       "      <td>0.261519</td>\n",
       "    </tr>\n",
       "    <tr>\n",
       "      <th>product_height_cm</th>\n",
       "      <td>53.0</td>\n",
       "      <td>0.050610</td>\n",
       "      <td>0.049274</td>\n",
       "      <td>-0.044269</td>\n",
       "      <td>0.033094</td>\n",
       "      <td>0.033094</td>\n",
       "      <td>0.059233</td>\n",
       "      <td>0.155750</td>\n",
       "    </tr>\n",
       "    <tr>\n",
       "      <th>product_width_cm</th>\n",
       "      <td>53.0</td>\n",
       "      <td>0.182194</td>\n",
       "      <td>0.032924</td>\n",
       "      <td>0.106787</td>\n",
       "      <td>0.169416</td>\n",
       "      <td>0.185111</td>\n",
       "      <td>0.204679</td>\n",
       "      <td>0.223262</td>\n",
       "    </tr>\n",
       "    <tr>\n",
       "      <th>price</th>\n",
       "      <td>53.0</td>\n",
       "      <td>105.174151</td>\n",
       "      <td>48.445495</td>\n",
       "      <td>38.790000</td>\n",
       "      <td>79.900000</td>\n",
       "      <td>88.000000</td>\n",
       "      <td>148.900000</td>\n",
       "      <td>215.000000</td>\n",
       "    </tr>\n",
       "  </tbody>\n",
       "</table>\n",
       "</div>"
      ],
      "text/plain": [
       "                            count        mean         std         min  \\\n",
       "product_name_lenght          53.0   52.000000    6.639045   38.000000   \n",
       "product_description_lenght   53.0  348.622642  206.832450  161.000000   \n",
       "product_photos_qty           53.0    2.283019    1.758248    1.000000   \n",
       "product_weight_g             53.0    0.523512    0.056097    0.405529   \n",
       "product_length_cm            53.0    0.207444    0.040338    0.114287   \n",
       "product_height_cm            53.0    0.050610    0.049274   -0.044269   \n",
       "product_width_cm             53.0    0.182194    0.032924    0.106787   \n",
       "price                        53.0  105.174151   48.445495   38.790000   \n",
       "\n",
       "                                   25%         50%         75%         max  \n",
       "product_name_lenght          46.000000   55.000000   56.000000   60.000000  \n",
       "product_description_lenght  162.000000  279.000000  329.000000  744.000000  \n",
       "product_photos_qty            1.000000    1.000000    5.000000    5.000000  \n",
       "product_weight_g              0.497043    0.513004    0.593473    0.600865  \n",
       "product_length_cm             0.188666    0.215757    0.230186    0.261519  \n",
       "product_height_cm             0.033094    0.033094    0.059233    0.155750  \n",
       "product_width_cm              0.169416    0.185111    0.204679    0.223262  \n",
       "price                        79.900000   88.000000  148.900000  215.000000  "
      ]
     },
     "execution_count": 275,
     "metadata": {},
     "output_type": "execute_result"
    }
   ],
   "source": [
    "# store the id of top 10 product in variable\n",
    "best_product = best_selling_cama.loc[0:9,\"product_id\"].tolist()\n",
    "\n",
    "# store the values of top 10 product in new dataframe\n",
    "top10_cama = table2.loc[table2['product_id'].isin(best_product)][\n",
    "                        ['product_id','product_name_lenght','product_description_lenght',\n",
    "                        'product_photos_qty','product_weight_g','product_length_cm',\n",
    "                        'product_height_cm','product_width_cm', 'price']].drop_duplicates()\n",
    "\n",
    "# plot descriptive analysis\n",
    "top10_cama.describe().transpose()"
   ]
  }
 ],
 "metadata": {
  "kernelspec": {
   "display_name": "Python 3 (ipykernel)",
   "language": "python",
   "name": "python3"
  },
  "language_info": {
   "codemirror_mode": {
    "name": "ipython",
    "version": 3
   },
   "file_extension": ".py",
   "mimetype": "text/x-python",
   "name": "python",
   "nbconvert_exporter": "python",
   "pygments_lexer": "ipython3",
   "version": "3.10.8"
  }
 },
 "nbformat": 4,
 "nbformat_minor": 5
}
